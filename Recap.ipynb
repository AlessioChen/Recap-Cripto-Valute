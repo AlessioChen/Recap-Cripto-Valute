{
 "cells": [
  {
   "cell_type": "code",
   "execution_count": 30,
   "metadata": {},
   "outputs": [],
   "source": [
    "import requests \n",
    "import json \n",
    "import pprint"
   ]
  },
  {
   "cell_type": "code",
   "execution_count": 31,
   "metadata": {},
   "outputs": [],
   "source": [
    "class Report: \n",
    "    def __init__(self):\n",
    "        \n",
    "        self.url =\"https://pro-api.coinmarketcap.com/v1/cryptocurrency/listings/latest\" #link per i report\n",
    "        self.params = {\n",
    "            'start': '1', #inizia dalla prima cripto in classifica\n",
    "            'limit': '100',  #finisce con la 100'esima cripto in classifca\n",
    "            'convert': \"USD\"  #valuta delle cripto -> dolalto \n",
    "        }\n",
    "        \n",
    "        self.headers = {\n",
    "            'Accepts': 'application/json', #formato della risposta \n",
    "            'X-CMC_PRO_API_KEY': 'e5c4253e-a74e-4274-84a0-9ed17d09b04f' #chiave per poter scaricare i dati \n",
    "        }\n",
    "        \n",
    "    def fetchCurrentData(self): \n",
    "        r = requests.get(url = self.url, headers = self.headers, params = self.params).json() #fa la richieste per i dati \n",
    "        return r['data'] #restituisce i dati in formato json \n"
   ]
  },
  {
   "cell_type": "code",
   "execution_count": 45,
   "metadata": {},
   "outputs": [],
   "source": [
    "report = Report()\n",
    "\n",
    "# currencies = report.fetchCurrentData()\n",
    "# with open(\"output.json\", \"w\") as outfile: \n",
    "#     json.dump(currencies, outfile, indent = 4)\n",
    "\n",
    "data = json.load(open(\"output.json\"))\n"
   ]
  },
  {
   "cell_type": "code",
   "execution_count": 93,
   "metadata": {},
   "outputs": [
    {
     "name": "stdout",
     "output_type": "stream",
     "text": [
      "Tether\n"
     ]
    }
   ],
   "source": [
    "def max_volume(data): #trova la valuta con maggiore volume delle ultime 24h\n",
    "    volumes = {v['quote']['USD']['volume_24h']: v['name'] for v in data} #dizionario con chiave volume e valore nome\n",
    "    \n",
    "    return volumes[max(volumes)] #ritorna nome della cripto con volume maggiore\n"
   ]
  },
  {
   "cell_type": "code",
   "execution_count": 126,
   "metadata": {},
   "outputs": [
    {
     "name": "stdout",
     "output_type": "stream",
     "text": [
      "['Algorand', 'Aave', 'Ren', 'Verge', 'Komodo', 'SwissBorg', 'Bancor', 'Hive', 'MCO', 'WAX']\n",
      "['UNUS SED LEO', 'Compound', '0x', 'Synthetix Network Token', 'Nexo', 'ZB Token', 'Quant', 'Loopring', 'Celsius', 'BitShares']\n"
     ]
    }
   ],
   "source": [
    "def best_and_worst_cripto(data): #trova le migliori e le peggiori 10 criptovalute (per incremento in percentuale nelle ultime 24 ore)\n",
    "\n",
    "    volumes = { v['quote']['USD']['percent_change_24h']: v['name'] for v in data} #dizionario con chiave volume e valore nome\n",
    "    \n",
    "    sorted_volumes = sorted(volumes) #lista ordinata in base alle chiavi del dizionario\n",
    "    best_volumes = sorted_volumes[:10]  #lista con i volumi migliori\n",
    "    worst_volumes = sorted_volumes[-10:] #lista con i volumi peggiori\n",
    "    \n",
    "    best = []\n",
    "    worst = []\n",
    "    \n",
    "    for v,name in volumes.items():  #ciclo sul dizionario \n",
    "        if v in best_volumes:  #se la chiave è nella lista dei migiori \n",
    "            best.append(name)  #salvo il nome della cripto \n",
    "        if v in worst_volumes: \n",
    "            worst.append(name)\n",
    "            \n",
    "    return best, worst\n"
   ]
  },
  {
   "cell_type": "code",
   "execution_count": null,
   "metadata": {},
   "outputs": [],
   "source": [
    "def "
   ]
  }
 ],
 "metadata": {
  "kernelspec": {
   "display_name": "Python 3",
   "language": "python",
   "name": "python3"
  },
  "language_info": {
   "codemirror_mode": {
    "name": "ipython",
    "version": 3
   },
   "file_extension": ".py",
   "mimetype": "text/x-python",
   "name": "python",
   "nbconvert_exporter": "python",
   "pygments_lexer": "ipython3",
   "version": "3.8.2"
  }
 },
 "nbformat": 4,
 "nbformat_minor": 4
}
