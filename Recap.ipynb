{
 "cells": [
  {
   "cell_type": "code",
   "execution_count": 1,
   "metadata": {},
   "outputs": [],
   "source": [
    "import requests \n",
    "import json \n",
    "import pprint\n",
    "from datetime import date\n"
   ]
  },
  {
   "cell_type": "code",
   "execution_count": 2,
   "metadata": {},
   "outputs": [],
   "source": [
    "class Report: \n",
    "    def __init__(self):\n",
    "        \n",
    "        self.url =\"https://pro-api.coinmarketcap.com/v1/cryptocurrency/listings/latest\" #link per i report\n",
    "        self.params = {\n",
    "            'start': '1', #inizia dalla prima cripto in classifica\n",
    "            'limit': '100',  #finisce con la 100'esima cripto in classifca\n",
    "            'convert': \"USD\"  #valuta delle cripto -> dollaro \n",
    "        }\n",
    "        \n",
    "        self.headers = {\n",
    "            'Accepts': 'application/json', #formato della risposta \n",
    "            'X-CMC_PRO_API_KEY': 'e5c4253e-a74e-4274-84a0-9ed17d09b04f' #chiave per poter scaricare i dati \n",
    "        }\n",
    "        \n",
    "    def fetchCurrentData(self): \n",
    "        r = requests.get(url = self.url, headers = self.headers, params = self.params).json() #fa la richieste per i dati \n",
    "        return r['data'] #restituisce i dati in formato json \n"
   ]
  },
  {
   "cell_type": "code",
   "execution_count": 3,
   "metadata": {},
   "outputs": [],
   "source": [
    "report = Report()\n",
    "\n",
    "# currencies = report.fetchCurrentData()\n",
    "# with open(\"output.json\", \"w\") as outfile: \n",
    "#     json.dump(currencies, outfile, indent = 4)\n",
    "\n",
    "data = json.load(open(\"old_data.json\"))\n"
   ]
  },
  {
   "cell_type": "code",
   "execution_count": 4,
   "metadata": {},
   "outputs": [],
   "source": [
    "def max_volume(data): #trova la valuta con maggiore volume delle ultime 24h\n",
    "    volumes = {v['quote']['USD']['volume_24h']: v['name'] for v in data} #dizionario con chiave volume e valore nome\n",
    "    \n",
    "    return volumes[max(volumes)] #ritorna nome della cripto con volume maggiore\n"
   ]
  },
  {
   "cell_type": "code",
   "execution_count": 5,
   "metadata": {},
   "outputs": [],
   "source": [
    "def best_and_worst_criptos(data): #trova le migliori e le peggiori 10 criptovalute (per incremento in percentuale nelle ultime 24 ore)\n",
    "\n",
    "    volumes = { v['quote']['USD']['percent_change_24h']: v['name'] for v in data} #dizionario con chiave volume e valore nome\n",
    "    \n",
    "    sorted_volumes = sorted(volumes) #lista ordinata in base alle chiavi del dizionario\n",
    "    best_volumes = sorted_volumes[:10]  #lista con i volumi migliori\n",
    "    worst_volumes = sorted_volumes[-10:] #lista con i volumi peggiori\n",
    "    \n",
    "    best = []\n",
    "    worst = []\n",
    "    \n",
    "    for v,name in volumes.items():  #ciclo sul dizionario \n",
    "        if v in best_volumes:  #se la chiave è nella lista dei migiori \n",
    "            best.append(name)  #salvo il nome della cripto \n",
    "        if v in worst_volumes: \n",
    "            worst.append(name)\n",
    "            \n",
    "    return best, worst\n",
    "\n",
    "\n",
    "\n"
   ]
  },
  {
   "cell_type": "code",
   "execution_count": 6,
   "metadata": {},
   "outputs": [],
   "source": [
    "def first_20(data): #trova la quantità di denaro necessaria per acquistare una unità di ciascuna delle prime 20 criptovalute\n",
    "    volumes = {v['name']: v['quote']['USD']['price'] for v in data[:20]} #dizionario con chiave nome e valore\n",
    "    return volumes\n",
    "\n"
   ]
  },
  {
   "cell_type": "code",
   "execution_count": 7,
   "metadata": {},
   "outputs": [],
   "source": [
    "def find_criptos(data, volume): \n",
    "    #trova la quantità di denaro necessaria per aqustare una unità di tutte le cripto\n",
    "    #il cui volume delle ultime 24 h sia superiore a 'volume'\n",
    "    \n",
    "    volumes = {v['name']: v['quote']['USD']['price'] for v in data\n",
    "                if v['quote']['USD']['volume_24h'] > volume}\n",
    "    \n",
    "    return volumes\n"
   ]
  },
  {
   "cell_type": "code",
   "execution_count": 8,
   "metadata": {},
   "outputs": [],
   "source": [
    "#trova la precentuale di guadagno o perdita che ho se comprassi una unità di ciascuna\n",
    "#delle prime 20 criptovalute il giorno prima (ipotizzando che la classifica non sia cambiata)\n",
    "def find_percentage(new_data, old_data):\n",
    "    new_20 = first_20(new_data)\n",
    "    old_20 = first_20(old_data)\n",
    "    \n",
    "    #creo dizionario con nome e precentuale du guadagno o peridata\n",
    "    r = {f : (new_20[f] - old_20[i]) / old_20[f] *100 for f,i in zip(new_20,old_20)}\n",
    "    return r\n",
    "    "
   ]
  },
  {
   "cell_type": "code",
   "execution_count": 9,
   "metadata": {},
   "outputs": [
    {
     "ename": "KeyError",
     "evalue": "'VeChain'",
     "output_type": "error",
     "traceback": [
      "\u001b[1;31m---------------------------------------------------------------------------\u001b[0m",
      "\u001b[1;31mKeyError\u001b[0m                                  Traceback (most recent call last)",
      "\u001b[1;32m<ipython-input-9-a00fadeb7bcb>\u001b[0m in \u001b[0;36m<module>\u001b[1;34m\u001b[0m\n\u001b[0;32m      7\u001b[0m \u001b[0mf_20\u001b[0m \u001b[1;33m=\u001b[0m \u001b[0mfirst_20\u001b[0m\u001b[1;33m(\u001b[0m\u001b[0mdata\u001b[0m\u001b[1;33m)\u001b[0m\u001b[1;33m\u001b[0m\u001b[1;33m\u001b[0m\u001b[0m\n\u001b[0;32m      8\u001b[0m \u001b[0mcriptos\u001b[0m \u001b[1;33m=\u001b[0m \u001b[0mfind_criptos\u001b[0m\u001b[1;33m(\u001b[0m\u001b[0mdata\u001b[0m\u001b[1;33m,\u001b[0m \u001b[1;36m76000000\u001b[0m\u001b[1;33m)\u001b[0m\u001b[1;33m\u001b[0m\u001b[1;33m\u001b[0m\u001b[0m\n\u001b[1;32m----> 9\u001b[1;33m \u001b[0mpercentage\u001b[0m \u001b[1;33m=\u001b[0m \u001b[0mfind_percentage\u001b[0m\u001b[1;33m(\u001b[0m\u001b[0mnew_data\u001b[0m\u001b[1;33m,\u001b[0m \u001b[0mold_data\u001b[0m\u001b[1;33m)\u001b[0m\u001b[1;33m\u001b[0m\u001b[1;33m\u001b[0m\u001b[0m\n\u001b[0m\u001b[0;32m     10\u001b[0m \u001b[1;33m\u001b[0m\u001b[0m\n\u001b[0;32m     11\u001b[0m result = {'max_volume_cripto': max_volume_cripto, \n",
      "\u001b[1;32m<ipython-input-8-5be40c823a4e>\u001b[0m in \u001b[0;36mfind_percentage\u001b[1;34m(new_data, old_data)\u001b[0m\n\u001b[0;32m      6\u001b[0m \u001b[1;33m\u001b[0m\u001b[0m\n\u001b[0;32m      7\u001b[0m     \u001b[1;31m#creo dizionario con nome e precentuale du guadagno o peridata\u001b[0m\u001b[1;33m\u001b[0m\u001b[1;33m\u001b[0m\u001b[1;33m\u001b[0m\u001b[0m\n\u001b[1;32m----> 8\u001b[1;33m     \u001b[0mr\u001b[0m \u001b[1;33m=\u001b[0m \u001b[1;33m{\u001b[0m\u001b[0mf\u001b[0m \u001b[1;33m:\u001b[0m \u001b[1;33m(\u001b[0m\u001b[0mnew_20\u001b[0m\u001b[1;33m[\u001b[0m\u001b[0mf\u001b[0m\u001b[1;33m]\u001b[0m \u001b[1;33m-\u001b[0m \u001b[0mold_20\u001b[0m\u001b[1;33m[\u001b[0m\u001b[0mi\u001b[0m\u001b[1;33m]\u001b[0m\u001b[1;33m)\u001b[0m \u001b[1;33m/\u001b[0m \u001b[0mold_20\u001b[0m\u001b[1;33m[\u001b[0m\u001b[0mf\u001b[0m\u001b[1;33m]\u001b[0m \u001b[1;33m*\u001b[0m\u001b[1;36m100\u001b[0m \u001b[1;32mfor\u001b[0m \u001b[0mf\u001b[0m\u001b[1;33m,\u001b[0m\u001b[0mi\u001b[0m \u001b[1;32min\u001b[0m \u001b[0mzip\u001b[0m\u001b[1;33m(\u001b[0m\u001b[0mnew_20\u001b[0m\u001b[1;33m,\u001b[0m\u001b[0mold_20\u001b[0m\u001b[1;33m)\u001b[0m\u001b[1;33m}\u001b[0m\u001b[1;33m\u001b[0m\u001b[1;33m\u001b[0m\u001b[0m\n\u001b[0m\u001b[0;32m      9\u001b[0m     \u001b[1;32mreturn\u001b[0m \u001b[0mr\u001b[0m\u001b[1;33m\u001b[0m\u001b[1;33m\u001b[0m\u001b[0m\n\u001b[0;32m     10\u001b[0m \u001b[1;33m\u001b[0m\u001b[0m\n",
      "\u001b[1;32m<ipython-input-8-5be40c823a4e>\u001b[0m in \u001b[0;36m<dictcomp>\u001b[1;34m(.0)\u001b[0m\n\u001b[0;32m      6\u001b[0m \u001b[1;33m\u001b[0m\u001b[0m\n\u001b[0;32m      7\u001b[0m     \u001b[1;31m#creo dizionario con nome e precentuale du guadagno o peridata\u001b[0m\u001b[1;33m\u001b[0m\u001b[1;33m\u001b[0m\u001b[1;33m\u001b[0m\u001b[0m\n\u001b[1;32m----> 8\u001b[1;33m     \u001b[0mr\u001b[0m \u001b[1;33m=\u001b[0m \u001b[1;33m{\u001b[0m\u001b[0mf\u001b[0m \u001b[1;33m:\u001b[0m \u001b[1;33m(\u001b[0m\u001b[0mnew_20\u001b[0m\u001b[1;33m[\u001b[0m\u001b[0mf\u001b[0m\u001b[1;33m]\u001b[0m \u001b[1;33m-\u001b[0m \u001b[0mold_20\u001b[0m\u001b[1;33m[\u001b[0m\u001b[0mi\u001b[0m\u001b[1;33m]\u001b[0m\u001b[1;33m)\u001b[0m \u001b[1;33m/\u001b[0m \u001b[0mold_20\u001b[0m\u001b[1;33m[\u001b[0m\u001b[0mf\u001b[0m\u001b[1;33m]\u001b[0m \u001b[1;33m*\u001b[0m\u001b[1;36m100\u001b[0m \u001b[1;32mfor\u001b[0m \u001b[0mf\u001b[0m\u001b[1;33m,\u001b[0m\u001b[0mi\u001b[0m \u001b[1;32min\u001b[0m \u001b[0mzip\u001b[0m\u001b[1;33m(\u001b[0m\u001b[0mnew_20\u001b[0m\u001b[1;33m,\u001b[0m\u001b[0mold_20\u001b[0m\u001b[1;33m)\u001b[0m\u001b[1;33m}\u001b[0m\u001b[1;33m\u001b[0m\u001b[1;33m\u001b[0m\u001b[0m\n\u001b[0m\u001b[0;32m      9\u001b[0m     \u001b[1;32mreturn\u001b[0m \u001b[0mr\u001b[0m\u001b[1;33m\u001b[0m\u001b[1;33m\u001b[0m\u001b[0m\n\u001b[0;32m     10\u001b[0m \u001b[1;33m\u001b[0m\u001b[0m\n",
      "\u001b[1;31mKeyError\u001b[0m: 'VeChain'"
     ]
    }
   ],
   "source": [
    "today = date.today() #data di oggi \n",
    "new_data = report.fetchCurrentData() #scarica i dati dai Coinmarket\n",
    "old_data = json.load(open(\"old_data.json\")) #prendo un file vecchio\n",
    "\n",
    "max_volume_cripto = max_volume (data)\n",
    "bests, worsts = best_and_worst_criptos(data) \n",
    "f_20 = first_20(data)\n",
    "criptos = find_criptos(data, 76000000)\n",
    "percentage = find_percentage(new_data, old_data)\n",
    "\n",
    "result = {'max_volume_cripto': max_volume_cripto, \n",
    "            'bests': bests,\n",
    "            'worst': worsts,\n",
    "            'first_20_criptos': f_20,\n",
    "             'criptos': criptos,\n",
    "            'percentage': percentage}\n",
    "\n",
    "#scrivo l'output sul file con la data di oggi \n",
    "with open(f\"{today}.json\", \"w\") as outfile: \n",
    "     json.dump(result, outfile, indent = 4)"
   ]
  }
 ],
 "metadata": {
  "kernelspec": {
   "display_name": "Python 3",
   "language": "python",
   "name": "python3"
  },
  "language_info": {
   "codemirror_mode": {
    "name": "ipython",
    "version": 3
   },
   "file_extension": ".py",
   "mimetype": "text/x-python",
   "name": "python",
   "nbconvert_exporter": "python",
   "pygments_lexer": "ipython3",
   "version": "3.8.2"
  }
 },
 "nbformat": 4,
 "nbformat_minor": 4
}
