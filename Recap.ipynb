{
 "cells": [
  {
   "cell_type": "code",
   "execution_count": 211,
   "metadata": {},
   "outputs": [
    {
     "ename": "SyntaxError",
     "evalue": "invalid syntax (<ipython-input-211-2c030547e70a>, line 5)",
     "output_type": "error",
     "traceback": [
      "\u001b[1;36m  File \u001b[1;32m\"<ipython-input-211-2c030547e70a>\"\u001b[1;36m, line \u001b[1;32m5\u001b[0m\n\u001b[1;33m    import functools import reduce\u001b[0m\n\u001b[1;37m                     ^\u001b[0m\n\u001b[1;31mSyntaxError\u001b[0m\u001b[1;31m:\u001b[0m invalid syntax\n"
     ]
    }
   ],
   "source": [
    "import requests \n",
    "import json \n",
    "import pprint\n",
    "from datetime import date\n"
   ]
  },
  {
   "cell_type": "code",
   "execution_count": 257,
   "metadata": {},
   "outputs": [],
   "source": [
    "class Report: \n",
    "    def __init__(self):\n",
    "        \n",
    "        self.url =\"https://pro-api.coinmarketcap.com/v1/cryptocurrency/listings/latest\" #link per i report\n",
    "        self.params = {\n",
    "            'start': '1', #inizia dalla prima cripto in classifica\n",
    "            'limit': '100',  #finisce con la 100'esima cripto in classifca\n",
    "            'convert': \"USD\"  #valuta delle cripto -> dolalto \n",
    "        }\n",
    "        \n",
    "        self.headers = {\n",
    "            'Accepts': 'application/json', #formato della risposta \n",
    "            'X-CMC_PRO_API_KEY': 'e5c4253e-a74e-4274-84a0-9ed17d09b04f' #chiave per poter scaricare i dati \n",
    "        }\n",
    "        \n",
    "    def fetchCurrentData(self): \n",
    "        r = requests.get(url = self.url, headers = self.headers, params = self.params).json() #fa la richieste per i dati \n",
    "        return r['data'] #restituisce i dati in formato json \n"
   ]
  },
  {
   "cell_type": "code",
   "execution_count": 258,
   "metadata": {},
   "outputs": [],
   "source": [
    "report = Report()\n",
    "\n",
    "# currencies = report.fetchCurrentData()\n",
    "# with open(\"output.json\", \"w\") as outfile: \n",
    "#     json.dump(currencies, outfile, indent = 4)\n",
    "\n",
    "data = json.load(open(\"old_data.json\"))\n"
   ]
  },
  {
   "cell_type": "code",
   "execution_count": 259,
   "metadata": {},
   "outputs": [],
   "source": [
    "def max_volume(data): #trova la valuta con maggiore volume delle ultime 24h\n",
    "    volumes = {v['quote']['USD']['volume_24h']: v['name'] for v in data} #dizionario con chiave volume e valore nome\n",
    "    \n",
    "    return volumes[max(volumes)] #ritorna nome della cripto con volume maggiore\n"
   ]
  },
  {
   "cell_type": "code",
   "execution_count": 260,
   "metadata": {},
   "outputs": [],
   "source": [
    "def best_and_worst_criptos(data): #trova le migliori e le peggiori 10 criptovalute (per incremento in percentuale nelle ultime 24 ore)\n",
    "\n",
    "    volumes = { v['quote']['USD']['percent_change_24h']: v['name'] for v in data} #dizionario con chiave volume e valore nome\n",
    "    \n",
    "    sorted_volumes = sorted(volumes) #lista ordinata in base alle chiavi del dizionario\n",
    "    best_volumes = sorted_volumes[:10]  #lista con i volumi migliori\n",
    "    worst_volumes = sorted_volumes[-10:] #lista con i volumi peggiori\n",
    "    \n",
    "    best = []\n",
    "    worst = []\n",
    "    \n",
    "    for v,name in volumes.items():  #ciclo sul dizionario \n",
    "        if v in best_volumes:  #se la chiave è nella lista dei migiori \n",
    "            best.append(name)  #salvo il nome della cripto \n",
    "        if v in worst_volumes: \n",
    "            worst.append(name)\n",
    "            \n",
    "    return best, worst\n",
    "\n",
    "\n",
    "\n"
   ]
  },
  {
   "cell_type": "code",
   "execution_count": 273,
   "metadata": {},
   "outputs": [
    {
     "name": "stdout",
     "output_type": "stream",
     "text": [
      "{'Bitcoin': 9153.32867575, 'Ethereum': 230.292527905, 'Tether': 1.00117650284, 'XRP': 0.182749274109, 'Bitcoin Cash': 230.036873861, 'Bitcoin SV': 168.804520428, 'Litecoin': 43.2094013667, 'Binance Coin': 15.7177865959, 'EOS': 2.47187407701, 'Cardano': 0.0804754056946, 'Crypto.com Coin': 0.114398090749, 'Tezos': 2.47372032749, 'Chainlink': 4.69943909929, 'Stellar': 0.0671848251789, 'UNUS SED LEO': 1.22562119267, 'Monero': 63.8095841541, 'TRON': 0.015798389452, 'USD Coin': 1.00185668617, 'Huobi Token': 4.21021792924, 'Neo': 10.2092286668}\n"
     ]
    }
   ],
   "source": [
    "def first_20(data): #trova la quantità di denaro necessaria per acquistare una unità di ciascuna delle prime 20 criptovalute\n",
    "    volumes = {v['name']: v['quote']['USD']['price'] for v in data[:20]} #dizionario con chiave nome e valore\n",
    "    return volumes\n",
    "\n"
   ]
  },
  {
   "cell_type": "code",
   "execution_count": 268,
   "metadata": {},
   "outputs": [],
   "source": [
    "def find_criptos(data, volume): \n",
    "    #trova la quantità di denaro necessaria per aqustare una unità di tutte le cripto\n",
    "    #il cui volume delle ultime 24 h sia superiore a 'volume'\n",
    "    \n",
    "    volumes = {v['name']: v['quote']['USD']['price'] for v in data\n",
    "                if v['quote']['USD']['volume_24h'] > volume}\n",
    "    \n",
    "    return zip(volumes)\n"
   ]
  },
  {
   "cell_type": "code",
   "execution_count": 263,
   "metadata": {},
   "outputs": [],
   "source": [
    "#trova la precentuale di guadagno o perdita che ho se comprassi una unità di ciascuna\n",
    "#delle prime 20 criptovalute il giorno prima (ipotizzando che la classifica non sia cambiata)\n",
    "def find_percentage(new_data, old_data):\n",
    "    new_20 = first_20(new_data)\n",
    "    old_20 = first_20(old_data)\n",
    "    \n",
    "    #creo dizionario con nome e precentuale du guadagno o peridata\n",
    "    r = {f : (new_20[f] - old_20[i]) / old_20[f] *100 for f,i in zip(new_20,old_20)}\n",
    "    return r\n",
    "    "
   ]
  },
  {
   "cell_type": "code",
   "execution_count": 288,
   "metadata": {},
   "outputs": [
    {
     "name": "stdout",
     "output_type": "stream",
     "text": [
      "{'max_volume': 'Tether', 'bests': ['Algorand', 'Aave', 'Ren', 'Verge', 'Komodo', 'SwissBorg', 'Bancor', 'Hive', 'MCO', 'WAX'], 'worst': ['UNUS SED LEO', 'Compound', '0x', 'Synthetix Network Token', 'Nexo', 'ZB Token', 'Quant', 'Loopring', 'Celsius', 'BitShares'], 'first_20_criptos': {'Bitcoin': 9153.32867575, 'Ethereum': 230.292527905, 'Tether': 1.00117650284, 'XRP': 0.182749274109, 'Bitcoin Cash': 230.036873861, 'Bitcoin SV': 168.804520428, 'Litecoin': 43.2094013667, 'Binance Coin': 15.7177865959, 'EOS': 2.47187407701, 'Cardano': 0.0804754056946, 'Crypto.com Coin': 0.114398090749, 'Tezos': 2.47372032749, 'Chainlink': 4.69943909929, 'Stellar': 0.0671848251789, 'UNUS SED LEO': 1.22562119267, 'Monero': 63.8095841541, 'TRON': 0.015798389452, 'USD Coin': 1.00185668617, 'Huobi Token': 4.21021792924, 'Neo': 10.2092286668}, 'criptos': <zip object at 0x06FAED68>, 'percentage': {'Bitcoin': 7.068466815947549, 'Ethereum': -13.02690984936149, 'Tether': 0.0, 'XRP': 0.0, 'Bitcoin Cash': 0.0, 'Bitcoin SV': 0.0, 'Litecoin': 0.0, 'Binance Coin': 0.0, 'EOS': 0.0, 'Cardano': 0.0, 'Crypto.com Coin': 0.0, 'Tezos': 0.0, 'Chainlink': 0.0, 'Stellar': 0.0, 'UNUS SED LEO': 0.0, 'Monero': 0.0, 'TRON': 0.0, 'USD Coin': 0.0, 'Huobi Token': 0.0, 'Neo': 0.0}}\n"
     ]
    }
   ],
   "source": [
    "today = date.today() #data di oggi \n",
    "\n",
    "max_volume_cripto = max_volume (data)\n",
    "bests, worsts = best_and_worst_criptos(data) \n",
    "f_20 = first_20(data)\n",
    "criptos = find_criptos(data, 76000000)\n",
    "percentage = find_percentage(new_data, old_data)\n",
    "\n",
    "result = {'max_volume': max_volume_cripto, \n",
    "            'bests': bests,\n",
    "            'worst': worsts,\n",
    "            'first_20_criptos': f_20,\n",
    "             'criptos': criptos,\n",
    "            'percentage': percentage}\n",
    "\n",
    "print(result)\n",
    "type(result)\n",
    "with open(f\"{today}.json\", \"w\") as outfile: \n",
    "     json.dump(bests, outfile, indent = 4)"
   ]
  }
 ],
 "metadata": {
  "kernelspec": {
   "display_name": "Python 3",
   "language": "python",
   "name": "python3"
  },
  "language_info": {
   "codemirror_mode": {
    "name": "ipython",
    "version": 3
   },
   "file_extension": ".py",
   "mimetype": "text/x-python",
   "name": "python",
   "nbconvert_exporter": "python",
   "pygments_lexer": "ipython3",
   "version": "3.8.2"
  }
 },
 "nbformat": 4,
 "nbformat_minor": 4
}
